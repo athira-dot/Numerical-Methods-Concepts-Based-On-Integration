{
 "cells": [
  {
   "cell_type": "markdown",
   "id": "1c63e0f4",
   "metadata": {},
   "source": [
    "Consider the gravitational force due to the plate felt by a point mass of 1 kg a distance z from the center of the square, in the direction perpendicular to the sheet.The relation between force as a function of z is studied with the help of Gaussian quadrature integration method."
   ]
  },
  {
   "cell_type": "code",
   "execution_count": 1,
   "id": "40bbc338",
   "metadata": {},
   "outputs": [],
   "source": [
    "import numpy as np\n",
    "import matplotlib.pyplot as plt\n",
    "import math\n",
    "from scipy.integrate import quad"
   ]
  },
  {
   "cell_type": "code",
   "execution_count": 2,
   "id": "e497046a",
   "metadata": {},
   "outputs": [],
   "source": [
    "def df(x,y,z):  #force integrand\n",
    "  k=6.67*(10**(-10))\n",
    "  m=((x**2)+(y**2)+(z**2))**(3/2)\n",
    "  return(z*k/m)"
   ]
  },
  {
   "cell_type": "code",
   "execution_count": 3,
   "id": "55cf9f61",
   "metadata": {},
   "outputs": [],
   "source": [
    "#calculating the integral\n",
    "s1=0.0\n",
    "ax=-5\n",
    "bx=5\n",
    "ay=-5\n",
    "by=5\n",
    "nx=100\n",
    "ny=100\n",
    "hx=(bx-ax)/nx\n",
    "hy=(by-ay)/ny\n",
    "z=0\n",
    "F=[]\n",
    "Z=[]\n",
    "while(z<=10):\n",
    "  i=ax\n",
    "  while(i<=bx):\n",
    "    j=ay\n",
    "    while(j<=by):\n",
    "      s1=s1+df(i,j,z)\n",
    "      j=j+(0.2113)*hy\n",
    "    i=i+(0.2113)*hx\n",
    "  i=ax\n",
    "  s2=0.0\n",
    "  while(i<=bx):\n",
    "    j=ay\n",
    "    while(j<=by):\n",
    "      s2=s2+df(i,j,z)\n",
    "      j=j+(0.7887)*hy\n",
    "    i=i+(0.7887)*hx\n",
    "  s=(hx*hy/36)*(s1+s2)\n",
    "  F.append(s)\n",
    "  Z.append(z)\n",
    "  z=z+0.1\n",
    "F=np.array(F)\n",
    "F=F*(10**7)\n"
   ]
  },
  {
   "cell_type": "code",
   "execution_count": 4,
   "id": "a922acc2",
   "metadata": {},
   "outputs": [
    {
     "data": {
      "image/png": "[encoded data removed]",
      "text/plain": [
       "<Figure size 432x288 with 1 Axes>"
      ]
     },
     "metadata": {
      "needs_background": "light"
     },
     "output_type": "display_data"
    }
   ],
   "source": [
    "plt.plot(Z,F)\n",
    "plt.title(\"Force along z vs z\")\n",
    "plt.xlabel(\"z\")\n",
    "plt.ylabel(\"Force in z direction(multiplied by 10^7 )\")\n",
    "plt.show()"
   ]
  }
 ],
 "metadata": {
  "kernelspec": {
   "display_name": "Python 3",
   "language": "python",
   "name": "python3"
  },
  "language_info": {
   "codemirror_mode": {
    "name": "ipython",
    "version": 3
   },
   "file_extension": ".py",
   "mimetype": "text/x-python",
   "name": "python",
   "nbconvert_exporter": "python",
   "pygments_lexer": "ipython3",
   "version": "3.8.8"
  }
 },
 "nbformat": 4,
 "nbformat_minor": 5
}
