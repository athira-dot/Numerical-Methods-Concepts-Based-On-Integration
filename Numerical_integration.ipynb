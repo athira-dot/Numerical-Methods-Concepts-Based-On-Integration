{
 "cells": [
  {
   "cell_type": "markdown",
   "id": "7578810e",
   "metadata": {},
   "source": [
    "Trapizoidal Rule"
   ]
  },
  {
   "cell_type": "code",
   "execution_count": 1,
   "id": "8d248bb5",
   "metadata": {},
   "outputs": [],
   "source": [
    "import numpy as np\n",
    "import matplotlib.pyplot as plt\n",
    "\n",
    "def fun(x):\n",
    "    return np.sin(np.sqrt(100*x))\n",
    "\n",
    "def trapintegral(lower,upper,slices):\n",
    "    h=(upper-lower)/slices\n",
    "    xlist=np.linspace(lower,upper,slices+1)\n",
    "    trapint=0.\n",
    "    for i in range(0,slices+1):\n",
    "        if (i==0 or i==slices):\n",
    "            trapint=trapint+fun(xlist[i])\n",
    "        else:\n",
    "            trapint=trapint+2*fun(xlist[i])\n",
    "    return trapint*h/2\n",
    "\n",
    "\n",
    "a=0.\n",
    "b=1.\n",
    "epsilon=10**-6\n",
    "maxiter=20\n",
    "\n",
    "I=np.zeros((1000,1000))\n",
    "I[0][0]=trapintegral(a,b,1)\n",
    "\n",
    "i=1\n",
    "error=1\n",
    "while(error>epsilon and i<maxiter):\n",
    "\n",
    "    slic=2**i\n",
    "\n",
    "    I[0][i]=trapintegral(a,b,slic)\n",
    "\n",
    "    for k in range(1,i+1):\n",
    "        j=i-k\n",
    "        I[k][j]=I[k-1][j+1] + (I[k-1][j+1]-I[k-1][j])/ (4.0**(k) -1)\n",
    "    error=abs(I[i][0]-I[i-1][1])\n",
    "    i=i+1\n",
    "\n",
    "N=i\n",
    "fob=open('Output3b.txt','w+')\n",
    "fob.write('===========================================================================================================================================;\\n')\n",
    "fob.write('                                                     Roberg Integration \\n')\n",
    "fob.write('===========================================================================================================================================;\\n')\n",
    "fob.write('-------------------------------------------------------------------------------------------------------------------------------------------\\n')\n",
    "fob.write('Number of slices->   ')\n",
    "for i in range(0,N):\n",
    "    fob.write('{0}                '.format(2**(i)))\n",
    "fob.write('\\n----------------------------------------------------------------------------------------------------------------------------------------\\n')\n",
    "for i in range(0,N):\n",
    "    fob.write('Error= O(h^{0})   '.format(2*(i+1)))\n",
    "    for j in range(0,i):\n",
    "        fob.write('         ')\n",
    "    for j in range(0,N-i):\n",
    "        fob.write('{0}          '.format(round(I[i][j],6)))\n",
    "    fob.write('\\n\\n\\n')\n",
    "fob.write('\\n-----------------------------------------------------------------------------------------------------------------------------------------------')\n",
    "if error<epsilon:\n",
    "    fob.write('\\nSolution converged with epsilon={0}'.format(epsilon))\n",
    "else:\n",
    "    fob.write('\\nCAUTION! Solution did not converg with epsilon={0}'.format(epsilon))\n",
    "fob.close()\n"
   ]
  },
  {
   "cell_type": "markdown",
   "id": "f4946fa7",
   "metadata": {},
   "source": [
    "simpson rule"
   ]
  },
  {
   "cell_type": "code",
   "execution_count": 2,
   "id": "08627a3a",
   "metadata": {},
   "outputs": [
    {
     "name": "stdout",
     "output_type": "stream",
     "text": [
      "6.497941065864535\n",
      "6.4939398024332\n"
     ]
    }
   ],
   "source": [
    "#simpson rule\n",
    "import numpy as np\n",
    "import matplotlib.pyplot as plt\n",
    "import math\n",
    "def simpson(n):\n",
    "  a=0.000001\n",
    "  b=700\n",
    "  z=[]\n",
    "  h=(b-a)/n\n",
    "  i=0\n",
    "  k=a\n",
    "  while(i<n):\n",
    "    z.append(k)\n",
    "    k=k+h\n",
    "    i=i+1\n",
    "  i=0\n",
    "  y=[]\n",
    "  while(i<n):\n",
    "    l=(z[i]**3)/((math.exp(z[i]))-1)\n",
    "    y.append(l)\n",
    "    i=i+1\n",
    "  s=y[0]+y[n-1]\n",
    "  j=1\n",
    "  while(j<(n-1)):\n",
    "    if((j%2)==1):\n",
    "      s=s+(4*y[j])\n",
    "    else:\n",
    "      s=s+(2*y[j])\n",
    "    j=j+1\n",
    "  s=s*(h/3)\n",
    "  return(s)\n",
    "print(simpson(1000))\n",
    "file=open('Output4b.txt','w+')\n",
    "file.write(\"for 1000 iteration, inegral= %s\"%(simpson(1000)))\n",
    "print(simpson(10000))\n",
    "file.write(\"for 10000 iteration, inegral= %s\"%(simpson(10000)))\n",
    "file.close()\n"
   ]
  },
  {
   "cell_type": "markdown",
   "id": "aadf70f8",
   "metadata": {},
   "source": [
    "gaussian quadrature"
   ]
  },
  {
   "cell_type": "code",
   "execution_count": 4,
   "id": "a24f117f",
   "metadata": {},
   "outputs": [
    {
     "data": {
      "image/png": "[encoded data removed]",
      "text/plain": [
       "<Figure size 432x288 with 1 Axes>"
      ]
     },
     "metadata": {
      "needs_background": "light"
     },
     "output_type": "display_data"
    }
   ],
   "source": [
    "#double integration gaussian quadrature\n",
    "import matplotlib.pyplot as plt\n",
    "def f(x,y,z):\n",
    "  k=6.67*(10**(-10))\n",
    "  m=((x**2)+(y**2)+(z**2))**(3/2)\n",
    "  return(z*k/m)\n",
    "#calculating the integral\n",
    "s1=0.0\n",
    "ax=-5\n",
    "bx=5\n",
    "ay=-5\n",
    "by=5\n",
    "nx=100\n",
    "ny=100\n",
    "hx=(bx-ax)/nx\n",
    "hy=(by-ay)/ny\n",
    "z=0\n",
    "F=[]\n",
    "Z=[]\n",
    "while(z<=10):\n",
    "  i=ax\n",
    "  while(i<=bx):\n",
    "    j=ay\n",
    "    while(j<=by):\n",
    "      s1=s1+f(i,j,z)\n",
    "      j=j+(0.2113)*hy\n",
    "    i=i+(0.2113)*hx\n",
    "  i=ax\n",
    "  s2=0.0\n",
    "  while(i<=bx):\n",
    "    j=ay\n",
    "    while(j<=by):\n",
    "      s2=s2+f(i,j,z)\n",
    "      j=j+(0.7887)*hy\n",
    "    i=i+(0.7887)*hx\n",
    "  s=(hx*hy/36)*(s1+s2)\n",
    "  F.append(s)\n",
    "  Z.append(z)\n",
    "  z=z+0.1\n",
    "plt.plot(Z,F)\n",
    "plt.savefig(\"six.png\")\n",
    "plt.show()\n"
   ]
  },
  {
   "cell_type": "code",
   "execution_count": null,
   "id": "dd08b116",
   "metadata": {},
   "outputs": [],
   "source": []
  }
 ],
 "metadata": {
  "kernelspec": {
   "display_name": "Python 3",
   "language": "python",
   "name": "python3"
  },
  "language_info": {
   "codemirror_mode": {
    "name": "ipython",
    "version": 3
   },
   "file_extension": ".py",
   "mimetype": "text/x-python",
   "name": "python",
   "nbconvert_exporter": "python",
   "pygments_lexer": "ipython3",
   "version": "3.8.8"
  }
 },
 "nbformat": 4,
 "nbformat_minor": 5
}
