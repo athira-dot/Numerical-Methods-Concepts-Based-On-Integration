{
 "cells": [
  {
   "cell_type": "code",
   "execution_count": 1,
   "id": "cdde9181",
   "metadata": {},
   "outputs": [],
   "source": [
    "import numpy as np\n",
    "import matplotlib.pyplot as plt\n",
    "import math\n",
    "from scipy.integrate import quad"
   ]
  },
  {
   "cell_type": "code",
   "execution_count": 2,
   "id": "c16e9e4c",
   "metadata": {},
   "outputs": [],
   "source": [
    "def fun(x):\n",
    "    return (1/(1+x**2))"
   ]
  },
  {
   "cell_type": "code",
   "execution_count": 3,
   "id": "cea56191",
   "metadata": {},
   "outputs": [],
   "source": [
    "def trapintegral(lower,upper,slices):\n",
    "    h=(upper-lower)/slices\n",
    "    xlist=np.linspace(lower,upper,slices+1)\n",
    "    trapint=0.\n",
    "    for i in range(0,slices+1):\n",
    "        if (i==0 or i==slices):\n",
    "            trapint=trapint+fun(xlist[i])\n",
    "        else:\n",
    "            trapint=trapint+2*fun(xlist[i])\n",
    "    return trapint*h/2"
   ]
  },
  {
   "cell_type": "code",
   "execution_count": 4,
   "id": "564622dd",
   "metadata": {},
   "outputs": [],
   "source": [
    "#simpson rule\n",
    "def simpson(a,b,n):\n",
    "  z=[]\n",
    "  h=(b-a)/n\n",
    "  i=0\n",
    "  k=a\n",
    "  while(i<n):\n",
    "    z.append(k)\n",
    "    k=k+h\n",
    "    i=i+1\n",
    "  z.append(b)\n",
    "  i=0\n",
    "  y=[]\n",
    "  while(i<=n):\n",
    "    l=fun(z[i])\n",
    "    y.append(l)\n",
    "    i=i+1\n",
    "  s=y[0]+y[n]\n",
    "  j=1\n",
    "  while(j<(n)):\n",
    "    if((j%2)==1):\n",
    "      s=s+(4*y[j])\n",
    "    else:\n",
    "      s=s+(2*y[j])\n",
    "    j=j+1\n",
    "  s=s*(h/3)\n",
    "  return(s)"
   ]
  },
  {
   "cell_type": "code",
   "execution_count": 5,
   "id": "f3c54292",
   "metadata": {},
   "outputs": [],
   "source": [
    "a=0\n",
    "b=1\n",
    "I = quad(fun,a,b)\n",
    "N=[]\n",
    "n=10\n",
    "trap_integ=[]\n",
    "simpson_integ=[]\n",
    "while(n<=1000000):\n",
    "  N.append(n)\n",
    "  trap_integ.append(trapintegral(a,b,n))\n",
    "  simpson_integ.append(simpson(a,b,n))\n",
    "  n=n*10\n",
    "l=I[0]\n",
    "I=I[0]\n",
    "trap_integ=np.array(trap_integ)\n",
    "trap_error=abs(trap_integ-I)\n",
    "simpson_integ=np.array(simpson_integ)\n",
    "simpson_error=abs(simpson_integ-I)"
   ]
  },
  {
   "cell_type": "code",
   "execution_count": null,
   "id": "d66430ba",
   "metadata": {},
   "outputs": [],
   "source": [
    "actual_inte=np.ones(np.size(N))\n",
    "act=l*act\n",
    "#plt.plot(np.log10(N),act,\"o\",color=\"blue\")\n",
    "plt.plot(np.log10(N),trap_error,\"o\",color=\"green\",label=\"trapizoidal_rule\")\n",
    "plt.plot(np.log10(N),simpson_error,\"*\",color=\"red\",label=\"simpson_rule\")\n",
    "plt.xlabel(\"log(no of slices)\")\n",
    "plt.ylabel(\"absolute error\")\n",
    "plt.legend()\n",
    "plt.show()"
   ]
  }
 ],
 "metadata": {
  "kernelspec": {
   "display_name": "Python 3",
   "language": "python",
   "name": "python3"
  },
  "language_info": {
   "codemirror_mode": {
    "name": "ipython",
    "version": 3
   },
   "file_extension": ".py",
   "mimetype": "text/x-python",
   "name": "python",
   "nbconvert_exporter": "python",
   "pygments_lexer": "ipython3",
   "version": "3.8.8"
  }
 },
 "nbformat": 4,
 "nbformat_minor": 5
}
